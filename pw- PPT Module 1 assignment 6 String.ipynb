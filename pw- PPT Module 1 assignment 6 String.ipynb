{
 "cells": [
  {
   "cell_type": "markdown",
   "id": "bdb8c4ef",
   "metadata": {},
   "source": [
    "# Q1. Ans"
   ]
  },
  {
   "cell_type": "code",
   "execution_count": 5,
   "id": "09b3cb2e",
   "metadata": {},
   "outputs": [
    {
     "name": "stdout",
     "output_type": "stream",
     "text": [
      "[0, 2, 3, 1, 2]\n"
     ]
    }
   ],
   "source": [
    "def findPermutation(s):\n",
    "    n = len(s)\n",
    "    perm = [0] * (n + 1)\n",
    "    left = right = 0\n",
    "\n",
    "    for i in range(n):\n",
    "        if s[i] == 'I':\n",
    "            perm[i] = left\n",
    "            left += 1\n",
    "        else:\n",
    "            perm[i] = right\n",
    "            right += 1\n",
    "\n",
    "    perm[n] = left\n",
    "\n",
    "    for i in range(right, 0, -1):\n",
    "        perm[i] += left\n",
    "\n",
    "    return perm\n",
    "s = \"IDID\"\n",
    "result = findPermutation(s)\n",
    "print(result)  \n"
   ]
  },
  {
   "cell_type": "markdown",
   "id": "f5e705a0",
   "metadata": {},
   "source": [
    "# Q4. Ans"
   ]
  },
  {
   "cell_type": "code",
   "execution_count": 6,
   "id": "4491706d",
   "metadata": {},
   "outputs": [
    {
     "name": "stdout",
     "output_type": "stream",
     "text": [
      "2\n"
     ]
    }
   ],
   "source": [
    "def findMaxLength(nums):\n",
    "    maxLen = 0\n",
    "    count = 0\n",
    "    countDict = {0: -1}\n",
    "\n",
    "    for i in range(len(nums)):\n",
    "        if nums[i] == 0:\n",
    "            count -= 1\n",
    "        else:\n",
    "            count += 1\n",
    "\n",
    "        if count in countDict:\n",
    "            maxLen = max(maxLen, i - countDict[count])\n",
    "        else:\n",
    "            countDict[count] = i\n",
    "\n",
    "    return maxLen\n",
    "nums = [0, 1]\n",
    "result = findMaxLength(nums)\n",
    "print(result)"
   ]
  },
  {
   "cell_type": "markdown",
   "id": "486dc9cd",
   "metadata": {},
   "source": [
    "# Q5. Ans"
   ]
  },
  {
   "cell_type": "code",
   "execution_count": 3,
   "id": "e35bdead",
   "metadata": {},
   "outputs": [
    {
     "name": "stdout",
     "output_type": "stream",
     "text": [
      "10\n"
     ]
    }
   ],
   "source": [
    "def minProductSum(nums1, nums2):\n",
    "    nums1.sort()\n",
    "    nums2.sort()\n",
    "    left, right = 0, len(nums1) - 1\n",
    "    minProductSum = 0\n",
    "\n",
    "    while left <= right:\n",
    "        minProductSum += nums1[left] * nums2[left]\n",
    "        left += 1\n",
    "        right -= 1\n",
    "\n",
    "    return minProductSum\n",
    "nums1 = [5, 3, 4, 2]\n",
    "nums2 = [4, 2, 2, 5]\n",
    "print(minProductSum(nums1, nums2))\n"
   ]
  },
  {
   "cell_type": "markdown",
   "id": "75991e93",
   "metadata": {},
   "source": [
    "# Q6. Ans"
   ]
  },
  {
   "cell_type": "code",
   "execution_count": 4,
   "id": "64566d7e",
   "metadata": {},
   "outputs": [
    {
     "name": "stdout",
     "output_type": "stream",
     "text": [
      "[]\n"
     ]
    }
   ],
   "source": [
    "def findOriginalArray(changed):\n",
    "    if len(changed) % 2 != 0:\n",
    "        return []\n",
    "\n",
    "    originalSet = set()\n",
    "    changed.sort()\n",
    "\n",
    "    for num in changed:\n",
    "        if num / 2 not in originalSet:\n",
    "            return []\n",
    "        else:\n",
    "            originalSet.remove(num / 2)\n",
    "\n",
    "    return list(originalSet)\n",
    "changed = [1, 3, 4, 2, 6, 8]\n",
    "print(findOriginalArray(changed))\n"
   ]
  },
  {
   "cell_type": "markdown",
   "id": "00d8a865",
   "metadata": {},
   "source": [
    "# Q7. Ans"
   ]
  },
  {
   "cell_type": "code",
   "execution_count": null,
   "id": "63a8d99a",
   "metadata": {},
   "outputs": [],
   "source": []
  }
 ],
 "metadata": {
  "kernelspec": {
   "display_name": "Python 3 (ipykernel)",
   "language": "python",
   "name": "python3"
  },
  "language_info": {
   "codemirror_mode": {
    "name": "ipython",
    "version": 3
   },
   "file_extension": ".py",
   "mimetype": "text/x-python",
   "name": "python",
   "nbconvert_exporter": "python",
   "pygments_lexer": "ipython3",
   "version": "3.9.12"
  }
 },
 "nbformat": 4,
 "nbformat_minor": 5
}
