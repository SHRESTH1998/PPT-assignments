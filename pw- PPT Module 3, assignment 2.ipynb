{
 "cells": [
  {
   "cell_type": "markdown",
   "id": "400d9277",
   "metadata": {},
   "source": [
    "# Q1. Ans"
   ]
  },
  {
   "cell_type": "code",
   "execution_count": 1,
   "id": "8221327c",
   "metadata": {},
   "outputs": [
    {
     "name": "stdout",
     "output_type": "stream",
     "text": [
      "Mean sales for Region A: 11.8\n",
      "Mean sales for Region B: 20.2\n"
     ]
    }
   ],
   "source": [
    "def calculate_mean_sales(region_sales):\n",
    "    total_sales = sum(region_sales)\n",
    "    num_sales = len(region_sales)\n",
    "    mean_sales = total_sales / num_sales\n",
    "    return mean_sales\n",
    "\n",
    "# Sales data for each region\n",
    "region_A_sales = [10, 15, 12, 8, 14]\n",
    "region_B_sales = [18, 20, 16, 22, 25]\n",
    "\n",
    "# Calculate mean sales for each region\n",
    "mean_sales_A = calculate_mean_sales(region_A_sales)\n",
    "mean_sales_B = calculate_mean_sales(region_B_sales)\n",
    "\n",
    "# Print the results\n",
    "print(\"Mean sales for Region A:\", mean_sales_A)\n",
    "print(\"Mean sales for Region B:\", mean_sales_B)\n"
   ]
  },
  {
   "cell_type": "markdown",
   "id": "9ac2f22a",
   "metadata": {},
   "source": [
    "# Q2. Ans"
   ]
  },
  {
   "cell_type": "code",
   "execution_count": 2,
   "id": "06e1ee2c",
   "metadata": {},
   "outputs": [
    {
     "name": "stdout",
     "output_type": "stream",
     "text": [
      "Mode of the survey responses: 4\n"
     ]
    }
   ],
   "source": [
    "from collections import Counter\n",
    "\n",
    "def calculate_mode(data):\n",
    "    counter = Counter(data)\n",
    "    mode = counter.most_common(1)[0][0]\n",
    "    return mode\n",
    "\n",
    "# Survey responses\n",
    "responses = [4, 5, 2, 3, 5, 4, 3, 2, 4, 5]\n",
    "\n",
    "# Calculate the mode of survey responses\n",
    "mode = calculate_mode(responses)\n",
    "\n",
    "# Print the result\n",
    "print(\"Mode of the survey responses:\", mode)\n"
   ]
  },
  {
   "cell_type": "markdown",
   "id": "f06f4b2b",
   "metadata": {},
   "source": [
    "# Q3. Ans"
   ]
  },
  {
   "cell_type": "code",
   "execution_count": 3,
   "id": "24416b61",
   "metadata": {},
   "outputs": [
    {
     "name": "stdout",
     "output_type": "stream",
     "text": [
      "Median salary for Department A: 5750.0\n",
      "Median salary for Department B: 5500\n"
     ]
    }
   ],
   "source": [
    "def calculate_median(salary_data):\n",
    "    sorted_data = sorted(salary_data)\n",
    "    n = len(sorted_data)\n",
    "    \n",
    "    if n % 2 == 0:\n",
    "        middle_1 = sorted_data[n // 2 - 1]\n",
    "        middle_2 = sorted_data[n // 2]\n",
    "        median = (middle_1 + middle_2) / 2\n",
    "    else:\n",
    "        median = sorted_data[n // 2]\n",
    "    \n",
    "    return median\n",
    "\n",
    "# Salary data for each department\n",
    "department_A_salary = [5000, 6000, 5500, 7000]\n",
    "department_B_salary = [4500, 5500, 5800, 6000, 5200]\n",
    "\n",
    "# Calculate the median salary for each department\n",
    "median_salary_A = calculate_median(department_A_salary)\n",
    "median_salary_B = calculate_median(department_B_salary)\n",
    "\n",
    "# Print the results\n",
    "print(\"Median salary for Department A:\", median_salary_A)\n",
    "print(\"Median salary for Department B:\", median_salary_B)\n"
   ]
  },
  {
   "cell_type": "markdown",
   "id": "ca3589fa",
   "metadata": {},
   "source": [
    "# Q4. Ans"
   ]
  },
  {
   "cell_type": "code",
   "execution_count": 4,
   "id": "76c34096",
   "metadata": {},
   "outputs": [
    {
     "name": "stdout",
     "output_type": "stream",
     "text": [
      "Range of stock prices: 1.3000000000000007\n"
     ]
    }
   ],
   "source": [
    "def calculate_range(stock_prices):\n",
    "    min_price = min(stock_prices)\n",
    "    max_price = max(stock_prices)\n",
    "    price_range = max_price - min_price\n",
    "    return price_range\n",
    "\n",
    "# Stock price data\n",
    "stock_prices = [25.5, 24.8, 26.1, 25.3, 24.9]\n",
    "\n",
    "# Calculate the range of stock prices\n",
    "price_range = calculate_range(stock_prices)\n",
    "\n",
    "# Print the result\n",
    "print(\"Range of stock prices:\", price_range)\n"
   ]
  },
  {
   "cell_type": "markdown",
   "id": "914e9806",
   "metadata": {},
   "source": [
    "# Q5. Ans"
   ]
  },
  {
   "cell_type": "code",
   "execution_count": 5,
   "id": "106d4a79",
   "metadata": {},
   "outputs": [
    {
     "name": "stdout",
     "output_type": "stream",
     "text": [
      "T-statistic: 1.4312528946642733\n",
      "P-value: 0.19023970239078333\n"
     ]
    }
   ],
   "source": [
    "from scipy import stats\n",
    "\n",
    "def perform_t_test(group_A_scores, group_B_scores):\n",
    "    t_statistic, p_value = stats.ttest_ind(group_A_scores, group_B_scores)\n",
    "    return t_statistic, p_value\n",
    "\n",
    "# Test scores for each group\n",
    "group_A_scores = [85, 90, 92, 88, 91]\n",
    "group_B_scores = [82, 88, 90, 86, 87]\n",
    "\n",
    "# Perform t-test\n",
    "t_statistic, p_value = perform_t_test(group_A_scores, group_B_scores)\n",
    "\n",
    "# Print the results\n",
    "print(\"T-statistic:\", t_statistic)\n",
    "print(\"P-value:\", p_value)\n"
   ]
  },
  {
   "cell_type": "markdown",
   "id": "675c0add",
   "metadata": {},
   "source": [
    "# Q6. Ans"
   ]
  },
  {
   "cell_type": "code",
   "execution_count": 6,
   "id": "fa79fe45",
   "metadata": {},
   "outputs": [
    {
     "name": "stdout",
     "output_type": "stream",
     "text": [
      "Correlation coefficient: 0.8757511375750132\n"
     ]
    }
   ],
   "source": [
    "import numpy as np\n",
    "\n",
    "def calculate_correlation(advertising_expenditure, sales):\n",
    "    correlation_coefficient = np.corrcoef(advertising_expenditure, sales)[0, 1]\n",
    "    return correlation_coefficient\n",
    "\n",
    "# Advertising expenditure and sales data\n",
    "advertising_expenditure = [10, 15, 12, 8, 14]\n",
    "sales = [25, 30, 28, 20, 26]\n",
    "\n",
    "# Calculate the correlation coefficient\n",
    "correlation = calculate_correlation(advertising_expenditure, sales)\n",
    "\n",
    "# Print the result\n",
    "print(\"Correlation coefficient:\", correlation)\n"
   ]
  },
  {
   "cell_type": "markdown",
   "id": "2c255c4f",
   "metadata": {},
   "source": [
    "# Q7. Ans"
   ]
  },
  {
   "cell_type": "code",
   "execution_count": 7,
   "id": "f83d6300",
   "metadata": {},
   "outputs": [
    {
     "name": "stdout",
     "output_type": "stream",
     "text": [
      "Standard deviation of heights: 7.953949089757174\n"
     ]
    }
   ],
   "source": [
    "import numpy as np\n",
    "\n",
    "def calculate_standard_deviation(heights):\n",
    "    standard_deviation = np.std(heights)\n",
    "    return standard_deviation\n",
    "\n",
    "# Heights data\n",
    "heights = [160, 170, 165, 155, 175, 180, 170]\n",
    "\n",
    "# Calculate the standard deviation\n",
    "std_deviation = calculate_standard_deviation(heights)\n",
    "\n",
    "# Print the result\n",
    "print(\"Standard deviation of heights:\", std_deviation)\n"
   ]
  },
  {
   "cell_type": "markdown",
   "id": "3eca2fca",
   "metadata": {},
   "source": [
    "# Q8. Ans"
   ]
  },
  {
   "cell_type": "code",
   "execution_count": 8,
   "id": "121b8b3c",
   "metadata": {},
   "outputs": [
    {
     "name": "stdout",
     "output_type": "stream",
     "text": [
      "Slope: -0.4680851063829787\n",
      "Intercept: 8.595744680851062\n",
      "R-value (correlation coefficient): -0.520573376708331\n",
      "P-value: 0.23095550952297988\n",
      "Standard error: 0.34333860006713723\n"
     ]
    }
   ],
   "source": [
    "from scipy import stats\n",
    "\n",
    "def perform_linear_regression(tenure, job_satisfaction):\n",
    "    slope, intercept, r_value, p_value, std_err = stats.linregress(tenure, job_satisfaction)\n",
    "    return slope, intercept, r_value, p_value, std_err\n",
    "\n",
    "# Employee tenure and job satisfaction data\n",
    "tenure = [2, 3, 5, 4, 6, 2, 4]\n",
    "job_satisfaction = [7, 8, 6, 9, 5, 7, 6]\n",
    "\n",
    "# Perform linear regression analysis\n",
    "slope, intercept, r_value, p_value, std_err = perform_linear_regression(tenure, job_satisfaction)\n",
    "\n",
    "# Print the results\n",
    "print(\"Slope:\", slope)\n",
    "print(\"Intercept:\", intercept)\n",
    "print(\"R-value (correlation coefficient):\", r_value)\n",
    "print(\"P-value:\", p_value)\n",
    "print(\"Standard error:\", std_err)\n"
   ]
  },
  {
   "cell_type": "markdown",
   "id": "51e4ee2f",
   "metadata": {},
   "source": [
    "# Q9. Ans"
   ]
  },
  {
   "cell_type": "code",
   "execution_count": 9,
   "id": "1745dd57",
   "metadata": {},
   "outputs": [
    {
     "name": "stdout",
     "output_type": "stream",
     "text": [
      "F-statistic: 16.0\n",
      "P-value: 0.003949772803445326\n"
     ]
    }
   ],
   "source": [
    "from scipy import stats\n",
    "\n",
    "def perform_anova(medication_A_recovery_times, medication_B_recovery_times):\n",
    "    f_statistic, p_value = stats.f_oneway(medication_A_recovery_times, medication_B_recovery_times)\n",
    "    return f_statistic, p_value\n",
    "\n",
    "# Recovery times for each medication\n",
    "medication_A_recovery_times = [10, 12, 14, 11, 13]\n",
    "medication_B_recovery_times = [15, 17, 16, 14, 18]\n",
    "\n",
    "# Perform ANOVA\n",
    "f_statistic, p_value = perform_anova(medication_A_recovery_times, medication_B_recovery_times)\n",
    "\n",
    "# Print the results\n",
    "print(\"F-statistic:\", f_statistic)\n",
    "print(\"P-value:\", p_value)\n"
   ]
  },
  {
   "cell_type": "markdown",
   "id": "f65093b3",
   "metadata": {},
   "source": [
    "# Q10. Ans"
   ]
  },
  {
   "cell_type": "code",
   "execution_count": 10,
   "id": "fffb186f",
   "metadata": {},
   "outputs": [
    {
     "name": "stdout",
     "output_type": "stream",
     "text": [
      "75th percentile of feedback ratings: 8.75\n"
     ]
    }
   ],
   "source": [
    "import numpy as np\n",
    "\n",
    "def calculate_percentile(feedback_ratings, percentile):\n",
    "    result = np.percentile(feedback_ratings, percentile)\n",
    "    return result\n",
    "\n",
    "# Feedback ratings data\n",
    "feedback_ratings = [8, 9, 7, 6, 8, 10, 9, 8, 7, 8]\n",
    "\n",
    "# Calculate the 75th percentile\n",
    "percentile_75 = calculate_percentile(feedback_ratings, 75)\n",
    "\n",
    "# Print the result\n",
    "print(\"75th percentile of feedback ratings:\", percentile_75)\n"
   ]
  },
  {
   "cell_type": "markdown",
   "id": "357dcd4b",
   "metadata": {},
   "source": [
    "# Q11. Ans"
   ]
  },
  {
   "cell_type": "code",
   "execution_count": 11,
   "id": "768d9394",
   "metadata": {},
   "outputs": [
    {
     "name": "stdout",
     "output_type": "stream",
     "text": [
      "T-statistic: 1.5126584522688367\n",
      "P-value: 0.19077595151110102\n"
     ]
    }
   ],
   "source": [
    "from scipy import stats\n",
    "\n",
    "def perform_hypothesis_test(sample_weights, null_hypothesis_mean):\n",
    "    t_statistic, p_value = stats.ttest_1samp(sample_weights, null_hypothesis_mean)\n",
    "    return t_statistic, p_value\n",
    "\n",
    "# Sample weights data\n",
    "sample_weights = [10.2, 9.8, 10.0, 10.5, 10.3, 10.1]\n",
    "\n",
    "# Null hypothesis mean\n",
    "null_hypothesis_mean = 10\n",
    "\n",
    "# Perform hypothesis test\n",
    "t_statistic, p_value = perform_hypothesis_test(sample_weights, null_hypothesis_mean)\n",
    "\n",
    "# Print the results\n",
    "print(\"T-statistic:\", t_statistic)\n",
    "print(\"P-value:\", p_value)\n"
   ]
  },
  {
   "cell_type": "markdown",
   "id": "bf806bce",
   "metadata": {},
   "source": [
    "# Q12. Ans"
   ]
  },
  {
   "cell_type": "code",
   "execution_count": 12,
   "id": "da5d093e",
   "metadata": {},
   "outputs": [
    {
     "name": "stdout",
     "output_type": "stream",
     "text": [
      "Chi-square statistic: 6.110658166925435\n",
      "P-value: 0.19103526314060293\n"
     ]
    }
   ],
   "source": [
    "from scipy import stats\n",
    "\n",
    "def perform_chi_square_test(design_A_clicks, design_B_clicks):\n",
    "    contingency_table = [design_A_clicks, design_B_clicks]\n",
    "    chi2_statistic, p_value, _, _ = stats.chi2_contingency(contingency_table)\n",
    "    return chi2_statistic, p_value\n",
    "\n",
    "# Click-through rates data for each design\n",
    "design_A_clicks = [100, 120, 110, 90, 95]\n",
    "design_B_clicks = [80, 85, 90, 95, 100]\n",
    "\n",
    "# Perform chi-square test\n",
    "chi2_statistic, p_value = perform_chi_square_test(design_A_clicks, design_B_clicks)\n",
    "\n",
    "# Print the results\n",
    "print(\"Chi-square statistic:\", chi2_statistic)\n",
    "print(\"P-value:\", p_value)\n"
   ]
  },
  {
   "cell_type": "markdown",
   "id": "fd64e09a",
   "metadata": {},
   "source": [
    "# Q13. Ans"
   ]
  },
  {
   "cell_type": "code",
   "execution_count": 14,
   "id": "d6821eaf",
   "metadata": {},
   "outputs": [
    {
     "name": "stdout",
     "output_type": "stream",
     "text": [
      "95% Confidence Interval: [7.04, 8.76]\n"
     ]
    }
   ],
   "source": [
    "import numpy as np\n",
    "from scipy import stats\n",
    "\n",
    "def calculate_confidence_interval(data, confidence_level):\n",
    "    sample_mean = np.mean(data)\n",
    "    standard_error = stats.sem(data)\n",
    "    margin_of_error = standard_error * stats.t.ppf((1 + confidence_level) / 2, len(data) - 1)\n",
    "    lower_bound = sample_mean - margin_of_error\n",
    "    upper_bound = sample_mean + margin_of_error\n",
    "    return lower_bound, upper_bound\n",
    "\n",
    "# Satisfaction score data\n",
    "satisfaction_scores = [7, 9, 6, 8, 10, 7, 8, 9, 7, 8]\n",
    "\n",
    "# Confidence level\n",
    "confidence_level = 0.95\n",
    "\n",
    "# Calculate the confidence interval\n",
    "lower_bound, upper_bound = calculate_confidence_interval(satisfaction_scores, confidence_level)\n",
    "\n",
    "# Print the result\n",
    "print(\"95% Confidence Interval: [{:.2f}, {:.2f}]\".format(lower_bound, upper_bound))\n"
   ]
  },
  {
   "cell_type": "markdown",
   "id": "1a70bf39",
   "metadata": {},
   "source": [
    "# Q14. Ans"
   ]
  },
  {
   "cell_type": "code",
   "execution_count": 15,
   "id": "e791de2e",
   "metadata": {},
   "outputs": [
    {
     "name": "stdout",
     "output_type": "stream",
     "text": [
      "Slope: 0.5\n",
      "Intercept: -2.9000000000000004\n",
      "R-value (correlation coefficient): 0.6933752452815364\n",
      "P-value: 0.19417134561205843\n",
      "Standard error: 0.30000000000000004\n"
     ]
    }
   ],
   "source": [
    "import numpy as np\n",
    "from scipy import stats\n",
    "\n",
    "def perform_linear_regression(temperature, performance):\n",
    "    slope, intercept, r_value, p_value, std_err = stats.linregress(temperature, performance)\n",
    "    return slope, intercept, r_value, p_value, std_err\n",
    "\n",
    "# Temperature and performance data\n",
    "temperature = [20, 22, 23, 19, 21]\n",
    "performance = [8, 7, 9, 6, 8]\n",
    "\n",
    "# Perform linear regression\n",
    "slope, intercept, r_value, p_value, std_err = perform_linear_regression(temperature, performance)\n",
    "\n",
    "# Print the results\n",
    "print(\"Slope:\", slope)\n",
    "print(\"Intercept:\", intercept)\n",
    "print(\"R-value (correlation coefficient):\", r_value)\n",
    "print(\"P-value:\", p_value)\n",
    "print(\"Standard error:\", std_err)\n"
   ]
  },
  {
   "cell_type": "markdown",
   "id": "4a3b9b16",
   "metadata": {},
   "source": [
    "# Q15. Ans"
   ]
  },
  {
   "cell_type": "code",
   "execution_count": 16,
   "id": "a23728c9",
   "metadata": {},
   "outputs": [
    {
     "name": "stdout",
     "output_type": "stream",
     "text": [
      "U statistic: 17.0\n",
      "P-value: 0.380836480306712\n"
     ]
    }
   ],
   "source": [
    "from scipy import stats\n",
    "\n",
    "def perform_mann_whitney(group_A_preferences, group_B_preferences):\n",
    "    u_statistic, p_value = stats.mannwhitneyu(group_A_preferences, group_B_preferences, alternative='two-sided')\n",
    "    return u_statistic, p_value\n",
    "\n",
    "# Preferences data for each group\n",
    "group_A_preferences = [4, 3, 5, 2, 4]\n",
    "group_B_preferences = [3, 2, 4, 3, 3]\n",
    "\n",
    "# Perform Mann-Whitney U test\n",
    "u_statistic, p_value = perform_mann_whitney(group_A_preferences, group_B_preferences)\n",
    "\n",
    "# Print the results\n",
    "print(\"U statistic:\", u_statistic)\n",
    "print(\"P-value:\", p_value)\n"
   ]
  },
  {
   "cell_type": "markdown",
   "id": "4a6caa30",
   "metadata": {},
   "source": [
    "# Q16. Ans"
   ]
  },
  {
   "cell_type": "code",
   "execution_count": 17,
   "id": "fbbf58b2",
   "metadata": {},
   "outputs": [
    {
     "name": "stdout",
     "output_type": "stream",
     "text": [
      "Interquartile Range (IQR) of ages: 22.5\n"
     ]
    }
   ],
   "source": [
    "import numpy as np\n",
    "\n",
    "def calculate_iqr(ages):\n",
    "    q1 = np.percentile(ages, 25)\n",
    "    q3 = np.percentile(ages, 75)\n",
    "    iqr = q3 - q1\n",
    "    return iqr\n",
    "\n",
    "# Ages data\n",
    "ages = [25, 30, 35, 40, 45, 50, 55, 60, 65, 70]\n",
    "\n",
    "# Calculate the IQR\n",
    "iqr = calculate_iqr(ages)\n",
    "\n",
    "# Print the result\n",
    "print(\"Interquartile Range (IQR) of ages:\", iqr)\n"
   ]
  },
  {
   "cell_type": "markdown",
   "id": "b3e2af50",
   "metadata": {},
   "source": [
    "# Q17. Ans"
   ]
  },
  {
   "cell_type": "code",
   "execution_count": 18,
   "id": "7cfcbfbb",
   "metadata": {},
   "outputs": [
    {
     "name": "stdout",
     "output_type": "stream",
     "text": [
      "H statistic: 9.696947935368053\n",
      "P-value: 0.007840333026249539\n"
     ]
    }
   ],
   "source": [
    "from scipy import stats\n",
    "\n",
    "def perform_kruskal_wallis(algorithm_A_scores, algorithm_B_scores, algorithm_C_scores):\n",
    "    h_statistic, p_value = stats.kruskal(algorithm_A_scores, algorithm_B_scores, algorithm_C_scores)\n",
    "    return h_statistic, p_value\n",
    "\n",
    "# Accuracy scores data for each algorithm\n",
    "algorithm_A_scores = [0.85, 0.80, 0.82, 0.87, 0.83]\n",
    "algorithm_B_scores = [0.78, 0.82, 0.84, 0.80, 0.79]\n",
    "algorithm_C_scores = [0.90, 0.88, 0.89, 0.86, 0.87]\n",
    "\n",
    "# Perform Kruskal-Wallis test\n",
    "h_statistic, p_value = perform_kruskal_wallis(algorithm_A_scores, algorithm_B_scores, algorithm_C_scores)\n",
    "\n",
    "# Print the results\n",
    "print(\"H statistic:\", h_statistic)\n",
    "print(\"P-value:\", p_value)\n"
   ]
  },
  {
   "cell_type": "markdown",
   "id": "440f601d",
   "metadata": {},
   "source": [
    "# Q18. Ans"
   ]
  },
  {
   "cell_type": "code",
   "execution_count": 19,
   "id": "ef7a8834",
   "metadata": {},
   "outputs": [
    {
     "name": "stdout",
     "output_type": "stream",
     "text": [
      "Slope: -3.506097560975609\n",
      "Intercept: 136.3719512195122\n",
      "R-value (correlation coefficient): -0.8979991308594848\n",
      "P-value: 0.03850178234753776\n",
      "Standard error: 0.9918303504036147\n"
     ]
    }
   ],
   "source": [
    "import numpy as np\n",
    "from scipy import stats\n",
    "\n",
    "def perform_linear_regression(price, sales):\n",
    "    slope, intercept, r_value, p_value, std_err = stats.linregress(price, sales)\n",
    "    return slope, intercept, r_value, p_value, std_err\n",
    "\n",
    "# Price and sales data\n",
    "price = [10, 15, 12, 8, 14]\n",
    "sales = [100, 80, 90, 110, 95]\n",
    "\n",
    "# Perform linear regression\n",
    "slope, intercept, r_value, p_value, std_err = perform_linear_regression(price, sales)\n",
    "\n",
    "# Print the results\n",
    "print(\"Slope:\", slope)\n",
    "print(\"Intercept:\", intercept)\n",
    "print(\"R-value (correlation coefficient):\", r_value)\n",
    "print(\"P-value:\", p_value)\n",
    "print(\"Standard error:\", std_err)\n"
   ]
  },
  {
   "cell_type": "markdown",
   "id": "898e177c",
   "metadata": {},
   "source": [
    "# Q19. Ans"
   ]
  },
  {
   "cell_type": "code",
   "execution_count": 20,
   "id": "74636838",
   "metadata": {},
   "outputs": [
    {
     "name": "stdout",
     "output_type": "stream",
     "text": [
      "Standard Error of the Mean: 0.29\n"
     ]
    }
   ],
   "source": [
    "import numpy as np\n",
    "\n",
    "def calculate_standard_error(data):\n",
    "    standard_error = np.std(data) / np.sqrt(len(data))\n",
    "    return standard_error\n",
    "\n",
    "# Satisfaction score data\n",
    "satisfaction_scores = [7, 8, 9, 6, 8, 7, 9, 7, 8, 7]\n",
    "\n",
    "# Calculate the standard error\n",
    "standard_error = calculate_standard_error(satisfaction_scores)\n",
    "\n",
    "# Print the result\n",
    "print(\"Standard Error of the Mean: {:.2f}\".format(standard_error))\n"
   ]
  },
  {
   "cell_type": "markdown",
   "id": "841613a1",
   "metadata": {},
   "source": [
    "# Q20. Ans"
   ]
  },
  {
   "cell_type": "code",
   "execution_count": 21,
   "id": "b3c2dd10",
   "metadata": {},
   "outputs": [
    {
     "name": "stdout",
     "output_type": "stream",
     "text": [
      "                            OLS Regression Results                            \n",
      "==============================================================================\n",
      "Dep. Variable:                      y   R-squared:                       0.767\n",
      "Model:                            OLS   Adj. R-squared:                  0.689\n",
      "Method:                 Least Squares   F-statistic:                     9.872\n",
      "Date:                Wed, 12 Jul 2023   Prob (F-statistic):             0.0516\n",
      "Time:                        17:37:10   Log-Likelihood:                -9.5288\n",
      "No. Observations:                   5   AIC:                             23.06\n",
      "Df Residuals:                       3   BIC:                             22.28\n",
      "Df Model:                           1                                         \n",
      "Covariance Type:            nonrobust                                         \n",
      "==============================================================================\n",
      "                 coef    std err          t      P>|t|      [0.025      0.975]\n",
      "------------------------------------------------------------------------------\n",
      "const         12.2012      4.429      2.755      0.070      -1.893      26.296\n",
      "x1             1.1524      0.367      3.142      0.052      -0.015       2.320\n",
      "==============================================================================\n",
      "Omnibus:                          nan   Durbin-Watson:                   1.136\n",
      "Prob(Omnibus):                    nan   Jarque-Bera (JB):                0.546\n",
      "Skew:                          -0.267   Prob(JB):                        0.761\n",
      "Kurtosis:                       1.471   Cond. No.                         57.3\n",
      "==============================================================================\n",
      "\n",
      "Notes:\n",
      "[1] Standard Errors assume that the covariance matrix of the errors is correctly specified.\n"
     ]
    },
    {
     "name": "stderr",
     "output_type": "stream",
     "text": [
      "C:\\ProgramData\\Anaconda3\\lib\\site-packages\\statsmodels\\stats\\stattools.py:74: ValueWarning: omni_normtest is not valid with less than 8 observations; 5 samples were given.\n",
      "  warn(\"omni_normtest is not valid with less than 8 observations; %i \"\n"
     ]
    }
   ],
   "source": [
    "import numpy as np\n",
    "import statsmodels.api as sm\n",
    "\n",
    "def perform_multiple_regression(advertising_expenditure, sales):\n",
    "    # Add a constant column to the predictor variable (advertising expenditure)\n",
    "    X = sm.add_constant(advertising_expenditure)\n",
    "    \n",
    "    # Fit the multiple regression model\n",
    "    model = sm.OLS(sales, X)\n",
    "    results = model.fit()\n",
    "    \n",
    "    return results\n",
    "\n",
    "# Advertising expenditure and sales data\n",
    "advertising_expenditure = [10, 15, 12, 8, 14]\n",
    "sales = [25, 30, 28, 20, 26]\n",
    "\n",
    "# Perform multiple regression\n",
    "results = perform_multiple_regression(advertising_expenditure, sales)\n",
    "\n",
    "# Print the regression results\n",
    "print(results.summary())\n"
   ]
  },
  {
   "cell_type": "code",
   "execution_count": null,
   "id": "cdf7354b",
   "metadata": {},
   "outputs": [],
   "source": []
  }
 ],
 "metadata": {
  "kernelspec": {
   "display_name": "Python 3 (ipykernel)",
   "language": "python",
   "name": "python3"
  },
  "language_info": {
   "codemirror_mode": {
    "name": "ipython",
    "version": 3
   },
   "file_extension": ".py",
   "mimetype": "text/x-python",
   "name": "python",
   "nbconvert_exporter": "python",
   "pygments_lexer": "ipython3",
   "version": "3.9.12"
  }
 },
 "nbformat": 4,
 "nbformat_minor": 5
}
