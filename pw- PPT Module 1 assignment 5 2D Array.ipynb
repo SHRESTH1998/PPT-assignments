{
 "cells": [
  {
   "cell_type": "markdown",
   "id": "79d16ba5",
   "metadata": {},
   "source": [
    "# Q3. Ans"
   ]
  },
  {
   "cell_type": "code",
   "execution_count": 10,
   "id": "46cf15ef",
   "metadata": {},
   "outputs": [
    {
     "name": "stdout",
     "output_type": "stream",
     "text": [
      "[0, 1, 9, 16, 100]\n"
     ]
    }
   ],
   "source": [
    "def sortedSquares(nums):\n",
    "    n = len(nums)\n",
    "    result = [0] * n\n",
    "    left = 0\n",
    "    right = n - 1\n",
    "    index = n - 1\n",
    "\n",
    "    while left <= right:\n",
    "        if abs(nums[left]) > abs(nums[right]):\n",
    "            result[index] = nums[left] ** 2\n",
    "            left += 1\n",
    "        else:\n",
    "            result[index] = nums[right] ** 2\n",
    "            right -= 1\n",
    "        index -= 1\n",
    "\n",
    "    return result\n",
    "nums = [-4, -1, 0, 3, 10]\n",
    "result = sortedSquares(nums)\n",
    "print(result)  "
   ]
  },
  {
   "cell_type": "markdown",
   "id": "a3166f73",
   "metadata": {},
   "source": [
    "# Q4. Ans"
   ]
  },
  {
   "cell_type": "code",
   "execution_count": 12,
   "id": "9a528ea4",
   "metadata": {},
   "outputs": [
    {
     "name": "stdout",
     "output_type": "stream",
     "text": [
      "[[4, 6], [1, 3]]\n"
     ]
    }
   ],
   "source": [
    "def findDisappearedNumbers(nums1, nums2):\n",
    "    set1 = set(nums1)\n",
    "    set2 = set(nums2)\n",
    "\n",
    "    not_in_nums2 = [num for num in set1 if num not in set2]\n",
    "    not_in_nums1 = [num for num in set2 if num not in set1]\n",
    "\n",
    "    return [not_in_nums1, not_in_nums2]\n",
    "\n",
    "nums1 = [1, 2, 3]\n",
    "nums2 = [2, 4, 6]\n",
    "result = findDisappearedNumbers(nums1, nums2)\n",
    "print(result)  "
   ]
  },
  {
   "cell_type": "markdown",
   "id": "2d60a818",
   "metadata": {},
   "source": [
    "# Q5. Ans"
   ]
  },
  {
   "cell_type": "code",
   "execution_count": 13,
   "id": "84eaecc4",
   "metadata": {},
   "outputs": [
    {
     "name": "stdout",
     "output_type": "stream",
     "text": [
      "2\n"
     ]
    }
   ],
   "source": [
    "def findTheDistanceValue(arr1, arr2, d):\n",
    "    distance = 0\n",
    "\n",
    "    for num1 in arr1:\n",
    "        found = False\n",
    "        for num2 in arr2:\n",
    "            if abs(num1 - num2) <= d:\n",
    "                found = True\n",
    "                break\n",
    "        if not found:\n",
    "            distance += 1\n",
    "\n",
    "    return distance\n",
    "arr1 = [4, 5, 8]\n",
    "arr2 = [10, 9, 1, 8]\n",
    "d = 2\n",
    "result = findTheDistanceValue(arr1, arr2, d)\n",
    "print(result)  "
   ]
  },
  {
   "cell_type": "markdown",
   "id": "5c4626b3",
   "metadata": {},
   "source": [
    "# Q6. Ans"
   ]
  },
  {
   "cell_type": "code",
   "execution_count": 14,
   "id": "bd93da1b",
   "metadata": {},
   "outputs": [
    {
     "name": "stdout",
     "output_type": "stream",
     "text": [
      "[2, 3]\n"
     ]
    }
   ],
   "source": [
    "def findDuplicates(nums):\n",
    "    result = []\n",
    "\n",
    "    for num in nums:\n",
    "        idx = abs(num) - 1\n",
    "        if nums[idx] > 0:\n",
    "            nums[idx] *= -1\n",
    "        else:\n",
    "            result.append(abs(num))\n",
    "\n",
    "    return result\n",
    "nums = [4, 3, 2, 7, 8, 2, 3, 1]\n",
    "result = findDuplicates(nums)\n",
    "print(result)  "
   ]
  },
  {
   "cell_type": "markdown",
   "id": "0d89f448",
   "metadata": {},
   "source": [
    "# Q7. Ans"
   ]
  },
  {
   "cell_type": "code",
   "execution_count": 15,
   "id": "fe2850c8",
   "metadata": {},
   "outputs": [
    {
     "name": "stdout",
     "output_type": "stream",
     "text": [
      "1\n"
     ]
    }
   ],
   "source": [
    "def findMin(nums):\n",
    "    left = 0\n",
    "    right = len(nums) - 1\n",
    "\n",
    "    while left < right:\n",
    "        mid = (left + right) // 2\n",
    "\n",
    "        if nums[mid] > nums[right]:\n",
    "            left = mid + 1\n",
    "        else:\n",
    "            right = mid\n",
    "\n",
    "    return nums[left]\n",
    "nums = [3, 4, 5, 1, 2]\n",
    "result = findMin(nums)\n",
    "print(result)  "
   ]
  },
  {
   "cell_type": "markdown",
   "id": "020acd35",
   "metadata": {},
   "source": [
    "# Q8. Ans"
   ]
  },
  {
   "cell_type": "code",
   "execution_count": 16,
   "id": "74cf4a09",
   "metadata": {},
   "outputs": [
    {
     "name": "stdout",
     "output_type": "stream",
     "text": [
      "[]\n"
     ]
    }
   ],
   "source": [
    "def findOriginalArray(changed):\n",
    "    count = {}\n",
    "\n",
    "    for num in changed:\n",
    "        if num not in count:\n",
    "            count[num] = 1\n",
    "        else:\n",
    "            count[num] += 1\n",
    "\n",
    "    original = []\n",
    "\n",
    "    for num in changed:\n",
    "        if num % 2 == 0 and num // 2 in count and count[num] > count[num // 2]:\n",
    "            return []\n",
    "\n",
    "        if count[num] >= 2:\n",
    "            original.append(num)\n",
    "            count[num] -= 2\n",
    "\n",
    "    if sum(count.values()) > 0:\n",
    "        return []\n",
    "\n",
    "    return original\n",
    "changed = [1, 3, 4, 2, 6, 8]\n",
    "result = findOriginalArray(changed)\n",
    "print(result)  "
   ]
  },
  {
   "cell_type": "code",
   "execution_count": null,
   "id": "82a6fb82",
   "metadata": {},
   "outputs": [],
   "source": []
  }
 ],
 "metadata": {
  "kernelspec": {
   "display_name": "Python 3 (ipykernel)",
   "language": "python",
   "name": "python3"
  },
  "language_info": {
   "codemirror_mode": {
    "name": "ipython",
    "version": 3
   },
   "file_extension": ".py",
   "mimetype": "text/x-python",
   "name": "python",
   "nbconvert_exporter": "python",
   "pygments_lexer": "ipython3",
   "version": "3.9.12"
  }
 },
 "nbformat": 4,
 "nbformat_minor": 5
}
