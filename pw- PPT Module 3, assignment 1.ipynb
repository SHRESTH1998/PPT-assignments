{
 "cells": [
  {
   "cell_type": "markdown",
   "id": "66d71ac4",
   "metadata": {},
   "source": [
    "# Q1. Ans"
   ]
  },
  {
   "cell_type": "code",
   "execution_count": 1,
   "id": "d09b7324",
   "metadata": {},
   "outputs": [
    {
     "name": "stdout",
     "output_type": "stream",
     "text": [
      "Enter a string: please check my previous assignments also\n",
      "Reversed string: osla stnemngissa suoiverp ym kcehc esaelp\n"
     ]
    }
   ],
   "source": [
    "def reverse_string(input_str):\n",
    "    reversed_str = ''\n",
    "    for i in range(len(input_str) - 1, -1, -1):\n",
    "        reversed_str += input_str[i]\n",
    "    return reversed_str\n",
    "\n",
    "# Example usage:\n",
    "string_to_reverse = input(\"Enter a string: \")\n",
    "reversed_string = reverse_string(string_to_reverse)\n",
    "print(\"Reversed string:\", reversed_string)\n"
   ]
  },
  {
   "cell_type": "markdown",
   "id": "1860515c",
   "metadata": {},
   "source": [
    "# Q2. Ans"
   ]
  },
  {
   "cell_type": "code",
   "execution_count": 2,
   "id": "9a31ee97",
   "metadata": {},
   "outputs": [
    {
     "name": "stdout",
     "output_type": "stream",
     "text": [
      "Enter a string: i am uploading all the assignment late\n",
      "The string is not a palindrome.\n"
     ]
    }
   ],
   "source": [
    "def is_palindrome(input_str):\n",
    "    # Remove spaces and convert to lowercase\n",
    "    input_str = input_str.replace(\" \", \"\").lower()\n",
    "    # Compare the string with its reverse\n",
    "    return input_str == input_str[::-1]\n",
    "\n",
    "# Example usage:\n",
    "string_to_check = input(\"Enter a string: \")\n",
    "if is_palindrome(string_to_check):\n",
    "    print(\"The string is a palindrome.\")\n",
    "else:\n",
    "    print(\"The string is not a palindrome.\")\n"
   ]
  },
  {
   "cell_type": "markdown",
   "id": "f65aed33",
   "metadata": {},
   "source": [
    "# Q3. Ans"
   ]
  },
  {
   "cell_type": "code",
   "execution_count": 3,
   "id": "e80f7cef",
   "metadata": {},
   "outputs": [
    {
     "name": "stdout",
     "output_type": "stream",
     "text": [
      "The largest element in the list is: 68\n"
     ]
    }
   ],
   "source": [
    "def find_largest_element(input_list):\n",
    "    if not input_list:  # Check if the list is empty\n",
    "        return None\n",
    "\n",
    "    largest = input_list[0]  # Assume the first element is the largest\n",
    "\n",
    "    for element in input_list:\n",
    "        if element > largest:\n",
    "            largest = element\n",
    "\n",
    "    return largest\n",
    "\n",
    "# Example usage:\n",
    "given_list = [12, 43, 7, 25, 68, 34]\n",
    "largest_element = find_largest_element(given_list)\n",
    "print(\"The largest element in the list is:\", largest_element)\n"
   ]
  },
  {
   "cell_type": "markdown",
   "id": "e1fa3fec",
   "metadata": {},
   "source": [
    "# Q4. Ans"
   ]
  },
  {
   "cell_type": "code",
   "execution_count": 4,
   "id": "e445e98a",
   "metadata": {},
   "outputs": [
    {
     "name": "stdout",
     "output_type": "stream",
     "text": [
      "Element occurrences: {4: 3, 2: 4, 7: 2, 3: 1, 8: 1}\n"
     ]
    }
   ],
   "source": [
    "def count_occurrences(input_list):\n",
    "    occurrence_count = {}\n",
    "\n",
    "    for element in input_list:\n",
    "        if element in occurrence_count:\n",
    "            occurrence_count[element] += 1\n",
    "        else:\n",
    "            occurrence_count[element] = 1\n",
    "\n",
    "    return occurrence_count\n",
    "\n",
    "# Example usage:\n",
    "given_list = [4, 2, 7, 2, 4, 3, 7, 2, 8, 4, 2]\n",
    "occurrence_dict = count_occurrences(given_list)\n",
    "print(\"Element occurrences:\", occurrence_dict)\n"
   ]
  },
  {
   "cell_type": "markdown",
   "id": "e578fc13",
   "metadata": {},
   "source": [
    "# Q5. Ans"
   ]
  },
  {
   "cell_type": "code",
   "execution_count": 5,
   "id": "8346352d",
   "metadata": {},
   "outputs": [
    {
     "name": "stdout",
     "output_type": "stream",
     "text": [
      "The second largest number in the list is: 12\n"
     ]
    }
   ],
   "source": [
    "def find_second_largest(input_list):\n",
    "    if len(input_list) < 2:\n",
    "        return None\n",
    "\n",
    "    largest = max(input_list[0], input_list[1])\n",
    "    second_largest = min(input_list[0], input_list[1])\n",
    "\n",
    "    for i in range(2, len(input_list)):\n",
    "        if input_list[i] > largest:\n",
    "            second_largest = largest\n",
    "            largest = input_list[i]\n",
    "        elif input_list[i] > second_largest and input_list[i] < largest:\n",
    "            second_largest = input_list[i]\n",
    "\n",
    "    return second_largest\n",
    "\n",
    "# Example usage:\n",
    "given_list = [5, 12, 8, 9, 15, 3]\n",
    "second_largest_number = find_second_largest(given_list)\n",
    "print(\"The second largest number in the list is:\", second_largest_number)\n"
   ]
  },
  {
   "cell_type": "markdown",
   "id": "7d35871c",
   "metadata": {},
   "source": [
    "# Q6. Ans"
   ]
  },
  {
   "cell_type": "code",
   "execution_count": 6,
   "id": "6d22fe66",
   "metadata": {},
   "outputs": [
    {
     "name": "stdout",
     "output_type": "stream",
     "text": [
      "List without duplicates: [2, 5, 8, 9, 1]\n"
     ]
    }
   ],
   "source": [
    "def remove_duplicates(input_list):\n",
    "    unique_list = []\n",
    "    seen = set()\n",
    "\n",
    "    for element in input_list:\n",
    "        if element not in seen:\n",
    "            unique_list.append(element)\n",
    "            seen.add(element)\n",
    "\n",
    "    return unique_list\n",
    "\n",
    "# Example usage:\n",
    "given_list = [2, 5, 8, 2, 9, 5, 1, 8]\n",
    "list_without_duplicates = remove_duplicates(given_list)\n",
    "print(\"List without duplicates:\", list_without_duplicates)\n"
   ]
  },
  {
   "cell_type": "markdown",
   "id": "7e20c335",
   "metadata": {},
   "source": [
    "# Q7. Ans"
   ]
  },
  {
   "cell_type": "code",
   "execution_count": 7,
   "id": "7f2fc4eb",
   "metadata": {},
   "outputs": [
    {
     "name": "stdout",
     "output_type": "stream",
     "text": [
      "Enter a number: 7\n",
      "The factorial of 7 is 5040\n"
     ]
    }
   ],
   "source": [
    "def factorial(number):\n",
    "    if number < 0:\n",
    "        return None\n",
    "    elif number == 0 or number == 1:\n",
    "        return 1\n",
    "    else:\n",
    "        result = 1\n",
    "        for i in range(2, number + 1):\n",
    "            result *= i\n",
    "        return result\n",
    "\n",
    "# Example usage:\n",
    "num = int(input(\"Enter a number: \"))\n",
    "factorial_result = factorial(num)\n",
    "\n",
    "if factorial_result is not None:\n",
    "    print(\"The factorial of\", num, \"is\", factorial_result)\n",
    "else:\n",
    "    print(\"Factorial is not defined for negative numbers.\")\n",
    "\n",
    "    "
   ]
  },
  {
   "cell_type": "markdown",
   "id": "7a5644fa",
   "metadata": {},
   "source": [
    "# Q8. Ans"
   ]
  },
  {
   "cell_type": "code",
   "execution_count": 8,
   "id": "439c0c14",
   "metadata": {},
   "outputs": [
    {
     "name": "stdout",
     "output_type": "stream",
     "text": [
      "Enter a number: 8\n",
      "8 is not a prime number.\n"
     ]
    }
   ],
   "source": [
    "def is_prime(number):\n",
    "    if number < 2:\n",
    "        return False\n",
    "\n",
    "    for i in range(2, int(number**0.5) + 1):\n",
    "        if number % i == 0:\n",
    "            return False\n",
    "\n",
    "    return True\n",
    "\n",
    "# Example usage:\n",
    "num = int(input(\"Enter a number: \"))\n",
    "if is_prime(num):\n",
    "    print(num, \"is a prime number.\")\n",
    "else:\n",
    "    print(num, \"is not a prime number.\")\n"
   ]
  },
  {
   "cell_type": "markdown",
   "id": "e288f14f",
   "metadata": {},
   "source": [
    "# Q9. Ans"
   ]
  },
  {
   "cell_type": "code",
   "execution_count": 9,
   "id": "a89e6a9b",
   "metadata": {},
   "outputs": [
    {
     "name": "stdout",
     "output_type": "stream",
     "text": [
      "Sorted list: [1, 2, 3, 5, 7, 8, 9]\n"
     ]
    }
   ],
   "source": [
    "def sort_list_ascending(input_list):\n",
    "    sorted_list = input_list[:]  # Create a copy of the input list\n",
    "\n",
    "    for i in range(len(sorted_list)):\n",
    "        for j in range(i + 1, len(sorted_list)):\n",
    "            if sorted_list[j] < sorted_list[i]:\n",
    "                sorted_list[i], sorted_list[j] = sorted_list[j], sorted_list[i]\n",
    "\n",
    "    return sorted_list\n",
    "\n",
    "# Example usage:\n",
    "given_list = [9, 5, 2, 8, 1, 7, 3]\n",
    "sorted_list = sort_list_ascending(given_list)\n",
    "print(\"Sorted list:\", sorted_list)\n"
   ]
  },
  {
   "cell_type": "markdown",
   "id": "5c60a9df",
   "metadata": {},
   "source": [
    "# Q10. Ans"
   ]
  },
  {
   "cell_type": "code",
   "execution_count": 10,
   "id": "878f2e61",
   "metadata": {},
   "outputs": [
    {
     "name": "stdout",
     "output_type": "stream",
     "text": [
      "Sum of the numbers in the list: 37\n"
     ]
    }
   ],
   "source": [
    "def calculate_sum(input_list):\n",
    "    sum = 0\n",
    "    for number in input_list:\n",
    "        sum += number\n",
    "    return sum\n",
    "\n",
    "# Example usage:\n",
    "given_list = [5, 12, 8, 3, 9]\n",
    "list_sum = calculate_sum(given_list)\n",
    "print(\"Sum of the numbers in the list:\", list_sum)\n"
   ]
  },
  {
   "cell_type": "markdown",
   "id": "cb5b0c4a",
   "metadata": {},
   "source": [
    "# Q11. Ans"
   ]
  },
  {
   "cell_type": "code",
   "execution_count": 11,
   "id": "11a82f98",
   "metadata": {},
   "outputs": [
    {
     "name": "stdout",
     "output_type": "stream",
     "text": [
      "Common elements: [4, 5]\n"
     ]
    }
   ],
   "source": [
    "def find_common_elements(list1, list2):\n",
    "    common_elements = []\n",
    "    for element in list1:\n",
    "        if element in list2:\n",
    "            common_elements.append(element)\n",
    "    return common_elements\n",
    "\n",
    "# Example usage:\n",
    "list1 = [1, 2, 3, 4, 5]\n",
    "list2 = [4, 5, 6, 7, 8]\n",
    "common_elements = find_common_elements(list1, list2)\n",
    "print(\"Common elements:\", common_elements)\n"
   ]
  },
  {
   "cell_type": "markdown",
   "id": "e857df59",
   "metadata": {},
   "source": [
    "# Q12. Ans"
   ]
  },
  {
   "cell_type": "code",
   "execution_count": 12,
   "id": "62a09af5",
   "metadata": {},
   "outputs": [
    {
     "name": "stdout",
     "output_type": "stream",
     "text": [
      "Enter the first string: please do the needful \n",
      "Enter the second string: by checking my all the pending assingments\n",
      "The strings are not anagrams.\n"
     ]
    }
   ],
   "source": [
    "def is_anagram(str1, str2):\n",
    "    str1 = str1.lower()\n",
    "    str2 = str2.lower()\n",
    "\n",
    "    # Remove spaces and punctuation from the strings\n",
    "    str1 = ''.join(ch for ch in str1 if ch.isalnum())\n",
    "    str2 = ''.join(ch for ch in str2 if ch.isalnum())\n",
    "\n",
    "    # Check if the sorted strings are equal\n",
    "    return sorted(str1) == sorted(str2)\n",
    "\n",
    "# Example usage:\n",
    "string1 = input(\"Enter the first string: \")\n",
    "string2 = input(\"Enter the second string: \")\n",
    "\n",
    "if is_anagram(string1, string2):\n",
    "    print(\"The strings are anagrams.\")\n",
    "else:\n",
    "    print(\"The strings are not anagrams.\")\n"
   ]
  },
  {
   "cell_type": "markdown",
   "id": "da2a3ed5",
   "metadata": {},
   "source": [
    "# Q13. Ans"
   ]
  },
  {
   "cell_type": "code",
   "execution_count": null,
   "id": "bbb97d76",
   "metadata": {},
   "outputs": [],
   "source": [
    "def generate_permutations(input_str):\n",
    "    permutations = []\n",
    "    generate_permutations_helper(list(input_str), 0, len(input_str) - 1, permutations)\n",
    "    return permutations\n",
    "\n",
    "def generate_permutations_helper(char_list, start, end, permutations):\n",
    "    if start == end:\n",
    "        permutations.append(''.join(char_list))\n",
    "    else:\n",
    "        for i in range(start, end + 1):\n",
    "            char_list[start], char_list[i] = char_list[i], char_list[start]\n",
    "            generate_permutations_helper(char_list, start + 1, end, permutations)\n",
    "            char_list[start], char_list[i] = char_list[i], char_list[start]  # Backtrack\n",
    "\n",
    "# Example usage:\n",
    "string = input(\"Enter a string: \")\n",
    "all_permutations = generate_permutations(string)\n",
    "print(\"All permutations of the string:\")\n",
    "for permutation in all_permutations:\n",
    "    print(permutation)\n"
   ]
  },
  {
   "cell_type": "markdown",
   "id": "ba18a1dd",
   "metadata": {},
   "source": [
    "# Q14. Ans"
   ]
  },
  {
   "cell_type": "code",
   "execution_count": null,
   "id": "fa59c8f0",
   "metadata": {},
   "outputs": [],
   "source": [
    "def fibonacci_sequence(num_terms):\n",
    "    sequence = []\n",
    "\n",
    "    if num_terms <= 0:\n",
    "        return sequence\n",
    "\n",
    "    # First two terms of the Fibonacci sequence\n",
    "    sequence.append(0)\n",
    "    if num_terms > 1:\n",
    "        sequence.append(1)\n",
    "\n",
    "    # Generate the Fibonacci sequence\n",
    "    for i in range(2, num_terms):\n",
    "        term = sequence[i - 1] + sequence[i - 2]\n",
    "\n",
    "    return sequence\n",
    "\n",
    "# Example usage:\n",
    "num = int(input(\"Enter the number of terms: \"))\n",
    "fibonacci_terms = fibonacci_sequence(num)\n",
    "print(\"Fibonacci sequence up to\", num, \"terms:\")\n",
    "print(fibonacci_terms)\n"
   ]
  },
  {
   "cell_type": "markdown",
   "id": "f379d2c9",
   "metadata": {},
   "source": [
    "# Q15. Ans"
   ]
  },
  {
   "cell_type": "code",
   "execution_count": 13,
   "id": "e6462f1f",
   "metadata": {},
   "outputs": [
    {
     "name": "stdout",
     "output_type": "stream",
     "text": [
      "Median: 7\n"
     ]
    }
   ],
   "source": [
    "def find_median(numbers):\n",
    "    sorted_numbers = sorted(numbers)\n",
    "    n = len(sorted_numbers)\n",
    "    \n",
    "    if n % 2 == 0:\n",
    "        mid1 = n // 2\n",
    "        mid2 = mid1 - 1\n",
    "        median = (sorted_numbers[mid1] + sorted_numbers[mid2]) / 2\n",
    "    else:\n",
    "        mid = n // 2\n",
    "        median = sorted_numbers[mid]\n",
    "    \n",
    "    return median\n",
    "\n",
    "# Example usage\n",
    "numbers = [7, 2, 10, 9, 6]\n",
    "median = find_median(numbers)\n",
    "print(\"Median:\", median)\n"
   ]
  },
  {
   "cell_type": "markdown",
   "id": "8089aae6",
   "metadata": {},
   "source": [
    "# Q16. Ans"
   ]
  },
  {
   "cell_type": "code",
   "execution_count": 14,
   "id": "b98b9313",
   "metadata": {},
   "outputs": [
    {
     "name": "stdout",
     "output_type": "stream",
     "text": [
      "True\n",
      "False\n"
     ]
    }
   ],
   "source": [
    "def is_sorted(numbers):\n",
    "    n = len(numbers)\n",
    "    \n",
    "    for i in range(n - 1):\n",
    "        if numbers[i] > numbers[i + 1]:\n",
    "            return False\n",
    "    \n",
    "    return True\n",
    "\n",
    "# Example usage\n",
    "numbers1 = [1, 2, 3, 4, 5]\n",
    "print(is_sorted(numbers1))  # True\n",
    "\n",
    "numbers2 = [7, 2, 10, 9, 6]\n",
    "print(is_sorted(numbers2))  # False\n"
   ]
  },
  {
   "cell_type": "markdown",
   "id": "d0131c26",
   "metadata": {},
   "source": [
    "# Q17. Ans"
   ]
  },
  {
   "cell_type": "code",
   "execution_count": 15,
   "id": "016d6a85",
   "metadata": {},
   "outputs": [
    {
     "name": "stdout",
     "output_type": "stream",
     "text": [
      "Intersection: [4, 5]\n"
     ]
    }
   ],
   "source": [
    "def find_intersection(list1, list2):\n",
    "    set1 = set(list1)\n",
    "    set2 = set(list2)\n",
    "    intersection = set1.intersection(set2)\n",
    "    return list(intersection)\n",
    "\n",
    "# Example usage\n",
    "list1 = [1, 2, 3, 4, 5]\n",
    "list2 = [4, 5, 6, 7, 8]\n",
    "intersection = find_intersection(list1, list2)\n",
    "print(\"Intersection:\", intersection)\n"
   ]
  },
  {
   "cell_type": "markdown",
   "id": "85e53f96",
   "metadata": {},
   "source": [
    "# Q18. Ans"
   ]
  },
  {
   "cell_type": "code",
   "execution_count": 16,
   "id": "7d8b4d18",
   "metadata": {},
   "outputs": [
    {
     "name": "stdout",
     "output_type": "stream",
     "text": [
      "Maximum Subarray Sum: 6\n"
     ]
    }
   ],
   "source": [
    "def max_subarray_sum(numbers):\n",
    "    max_sum = float('-inf')  # Initialize with negative infinity\n",
    "    current_sum = 0\n",
    "    \n",
    "    for num in numbers:\n",
    "        current_sum = max(num, current_sum + num)\n",
    "        max_sum = max(max_sum, current_sum)\n",
    "    \n",
    "    return max_sum\n",
    "\n",
    "# Example usage\n",
    "numbers = [-2, 1, -3, 4, -1, 2, 1, -5, 4]\n",
    "max_sum = max_subarray_sum(numbers)\n",
    "print(\"Maximum Subarray Sum:\", max_sum)\n"
   ]
  },
  {
   "cell_type": "markdown",
   "id": "9045da0e",
   "metadata": {},
   "source": [
    "# Q19. Ans"
   ]
  },
  {
   "cell_type": "code",
   "execution_count": 17,
   "id": "337fe307",
   "metadata": {},
   "outputs": [
    {
     "name": "stdout",
     "output_type": "stream",
     "text": [
      "Result: Hll, Wrld!\n"
     ]
    }
   ],
   "source": [
    "def remove_vowels(string):\n",
    "    vowels = \"aeiouAEIOU\"\n",
    "    result = \"\"\n",
    "    \n",
    "    for char in string:\n",
    "        if char not in vowels:\n",
    "            result += char\n",
    "    \n",
    "    return result\n",
    "\n",
    "# Example usage\n",
    "string = \"Hello, World!\"\n",
    "result = remove_vowels(string)\n",
    "print(\"Result:\", result)\n"
   ]
  },
  {
   "cell_type": "markdown",
   "id": "c992400b",
   "metadata": {},
   "source": [
    "# Q20. Ans"
   ]
  },
  {
   "cell_type": "code",
   "execution_count": 18,
   "id": "0bbeee89",
   "metadata": {},
   "outputs": [
    {
     "name": "stdout",
     "output_type": "stream",
     "text": [
      "Reversed sentence: today? you are how Hello,\n"
     ]
    }
   ],
   "source": [
    "def reverse_words(sentence):\n",
    "    words = sentence.split()\n",
    "    reversed_words = words[::-1]\n",
    "    reversed_sentence = ' '.join(reversed_words)\n",
    "    return reversed_sentence\n",
    "\n",
    "# Example usage\n",
    "sentence = \"Hello, how are you today?\"\n",
    "reversed_sentence = reverse_words(sentence)\n",
    "print(\"Reversed sentence:\", reversed_sentence)\n"
   ]
  },
  {
   "cell_type": "markdown",
   "id": "30c9d669",
   "metadata": {},
   "source": [
    "# Q21. Ans"
   ]
  },
  {
   "cell_type": "code",
   "execution_count": 19,
   "id": "7bb74182",
   "metadata": {},
   "outputs": [
    {
     "name": "stdout",
     "output_type": "stream",
     "text": [
      "True\n",
      "False\n"
     ]
    }
   ],
   "source": [
    "def is_anagram(str1, str2):\n",
    "    str1 = str1.lower()\n",
    "    str2 = str2.lower()\n",
    "    \n",
    "    if len(str1) != len(str2):\n",
    "        return False\n",
    "    \n",
    "    count = {}\n",
    "    \n",
    "    for char in str1:\n",
    "        if char in count:\n",
    "            count[char] += 1\n",
    "        else:\n",
    "            count[char] = 1\n",
    "    \n",
    "    for char in str2:\n",
    "        if char in count:\n",
    "            count[char] -= 1\n",
    "        else:\n",
    "            return False\n",
    "    \n",
    "    for value in count.values():\n",
    "        if value != 0:\n",
    "            return False\n",
    "    \n",
    "    return True\n",
    "\n",
    "# Example usage\n",
    "string1 = \"listen\"\n",
    "string2 = \"silent\"\n",
    "print(is_anagram(string1, string2))  # True\n",
    "\n",
    "string3 = \"hello\"\n",
    "string4 = \"world\"\n",
    "print(is_anagram(string3, string4))  # False\n"
   ]
  },
  {
   "cell_type": "markdown",
   "id": "a602fcbe",
   "metadata": {},
   "source": [
    "# Q22. Ans"
   ]
  },
  {
   "cell_type": "code",
   "execution_count": 20,
   "id": "e73e0f2b",
   "metadata": {},
   "outputs": [
    {
     "name": "stdout",
     "output_type": "stream",
     "text": [
      "First non-repeating character: o\n"
     ]
    }
   ],
   "source": [
    "def find_first_non_repeating_char(string):\n",
    "    count = {}\n",
    "    \n",
    "    for char in string:\n",
    "        if char in count:\n",
    "            count[char] += 1\n",
    "        else:\n",
    "            count[char] = 1\n",
    "    \n",
    "    for char in string:\n",
    "        if count[char] == 1:\n",
    "            return char\n",
    "    \n",
    "    return None\n",
    "\n",
    "# Example usage\n",
    "string = \"openai\"\n",
    "first_non_repeating_char = find_first_non_repeating_char(string)\n",
    "print(\"First non-repeating character:\", first_non_repeating_char)\n"
   ]
  },
  {
   "cell_type": "markdown",
   "id": "b84ecc32",
   "metadata": {},
   "source": [
    "# Q23. Ans"
   ]
  },
  {
   "cell_type": "code",
   "execution_count": 21,
   "id": "f11e35f9",
   "metadata": {},
   "outputs": [
    {
     "name": "stdout",
     "output_type": "stream",
     "text": [
      "Prime factors of 84 are: [2, 2, 3, 7]\n"
     ]
    }
   ],
   "source": [
    "def find_prime_factors(number):\n",
    "    factors = []\n",
    "    divisor = 2\n",
    "    \n",
    "    while divisor <= number:\n",
    "        if number % divisor == 0:\n",
    "            factors.append(divisor)\n",
    "            number //= divisor\n",
    "        else:\n",
    "            divisor += 1\n",
    "    \n",
    "    return factors\n",
    "\n",
    "# Example usage\n",
    "number = 84\n",
    "prime_factors = find_prime_factors(number)\n",
    "print(\"Prime factors of\", number, \"are:\", prime_factors)\n"
   ]
  },
  {
   "cell_type": "markdown",
   "id": "fbaef780",
   "metadata": {},
   "source": [
    "# Q24. Ans"
   ]
  },
  {
   "cell_type": "code",
   "execution_count": 22,
   "id": "e116bdcc",
   "metadata": {},
   "outputs": [
    {
     "name": "stdout",
     "output_type": "stream",
     "text": [
      "True\n",
      "False\n"
     ]
    }
   ],
   "source": [
    "def is_power_of_two(number):\n",
    "    if number <= 0:\n",
    "        return False\n",
    "    return (number & (number - 1)) == 0\n",
    "\n",
    "# Example usage\n",
    "number1 = 8\n",
    "print(is_power_of_two(number1))  # True\n",
    "\n",
    "number2 = 12\n",
    "print(is_power_of_two(number2))  # False\n"
   ]
  },
  {
   "cell_type": "markdown",
   "id": "bf771ba4",
   "metadata": {},
   "source": [
    "# Q25. Ans"
   ]
  },
  {
   "cell_type": "code",
   "execution_count": 23,
   "id": "fc76211a",
   "metadata": {},
   "outputs": [
    {
     "name": "stdout",
     "output_type": "stream",
     "text": [
      "Merged list: [1, 2, 3, 4, 5, 6, 7, 8]\n"
     ]
    }
   ],
   "source": [
    "def merge_sorted_lists(list1, list2):\n",
    "    merged_list = []\n",
    "    i, j = 0, 0\n",
    "    \n",
    "    while i < len(list1) and j < len(list2):\n",
    "        if list1[i] < list2[j]:\n",
    "            merged_list.append(list1[i])\n",
    "            i += 1\n",
    "        else:\n",
    "            merged_list.append(list2[j])\n",
    "            j += 1\n",
    "    \n",
    "    while i < len(list1):\n",
    "        merged_list.append(list1[i])\n",
    "        i += 1\n",
    "    \n",
    "    while j < len(list2):\n",
    "        merged_list.append(list2[j])\n",
    "        j += 1\n",
    "    \n",
    "    return merged_list\n",
    "\n",
    "# Example usage\n",
    "list1 = [1, 3, 5, 7]\n",
    "list2 = [2, 4, 6, 8]\n",
    "merged_list = merge_sorted_lists(list1, list2)\n",
    "print(\"Merged list:\", merged_list)\n"
   ]
  },
  {
   "cell_type": "markdown",
   "id": "8e7c1eff",
   "metadata": {},
   "source": [
    "# Q26. Ans"
   ]
  },
  {
   "cell_type": "code",
   "execution_count": 24,
   "id": "1f0d9b09",
   "metadata": {},
   "outputs": [
    {
     "name": "stdout",
     "output_type": "stream",
     "text": [
      "Mode: 4\n"
     ]
    }
   ],
   "source": [
    "from collections import Counter\n",
    "\n",
    "def find_mode(numbers):\n",
    "    counter = Counter(numbers)\n",
    "    mode = counter.most_common(1)[0][0]\n",
    "    return mode\n",
    "\n",
    "# Example usage\n",
    "numbers = [1, 2, 2, 3, 3, 3, 4, 4, 4, 4]\n",
    "mode = find_mode(numbers)\n",
    "print(\"Mode:\", mode)\n",
    "\n"
   ]
  },
  {
   "cell_type": "markdown",
   "id": "f3ae1e96",
   "metadata": {},
   "source": [
    "# Q27. Ans"
   ]
  },
  {
   "cell_type": "code",
   "execution_count": 25,
   "id": "6593663c",
   "metadata": {},
   "outputs": [
    {
     "name": "stdout",
     "output_type": "stream",
     "text": [
      "GCD: 6\n"
     ]
    }
   ],
   "source": [
    "def find_gcd(a, b):\n",
    "    while b != 0:\n",
    "        a, b = b, a % b\n",
    "    return a\n",
    "\n",
    "# Example usage\n",
    "num1 = 48\n",
    "num2 = 18\n",
    "gcd = find_gcd(num1, num2)\n",
    "print(\"GCD:\", gcd)\n"
   ]
  },
  {
   "cell_type": "markdown",
   "id": "20e8c5bc",
   "metadata": {},
   "source": [
    "# Q28. Ans"
   ]
  },
  {
   "cell_type": "code",
   "execution_count": 26,
   "id": "6e144242",
   "metadata": {},
   "outputs": [
    {
     "name": "stdout",
     "output_type": "stream",
     "text": [
      "Square root: 5.000000000053722\n"
     ]
    }
   ],
   "source": [
    "def square_root(number, precision=0.0001):\n",
    "    if number < 0:\n",
    "        raise ValueError(\"Cannot calculate square root of a negative number.\")\n",
    "    \n",
    "    guess = number\n",
    "    while abs(guess * guess - number) > precision:\n",
    "        guess = (guess + number / guess) / 2\n",
    "    \n",
    "    return guess\n",
    "\n",
    "# Example usage\n",
    "number = 25\n",
    "sqrt = square_root(number)\n",
    "print(\"Square root:\", sqrt)\n"
   ]
  },
  {
   "cell_type": "markdown",
   "id": "4e91f10a",
   "metadata": {},
   "source": [
    "# Q29. Ans"
   ]
  },
  {
   "cell_type": "code",
   "execution_count": 27,
   "id": "6ad622d4",
   "metadata": {},
   "outputs": [
    {
     "name": "stdout",
     "output_type": "stream",
     "text": [
      "True\n",
      "False\n"
     ]
    }
   ],
   "source": [
    "import re\n",
    "\n",
    "def is_valid_palindrome(string):\n",
    "    alphanumeric_string = re.sub(r'[^a-zA-Z0-9]', '', string)\n",
    "    alphanumeric_string = alphanumeric_string.lower()\n",
    "    return alphanumeric_string == alphanumeric_string[::-1]\n",
    "\n",
    "# Example usage\n",
    "string1 = \"A man, a plan, a canal: Panama\"\n",
    "print(is_valid_palindrome(string1))  # True\n",
    "\n",
    "string2 = \"race a car\"\n",
    "print(is_valid_palindrome(string2))  # False\n"
   ]
  },
  {
   "cell_type": "markdown",
   "id": "d8600411",
   "metadata": {},
   "source": [
    "# Q30. Ans"
   ]
  },
  {
   "cell_type": "code",
   "execution_count": 28,
   "id": "d71f10e9",
   "metadata": {},
   "outputs": [
    {
     "name": "stdout",
     "output_type": "stream",
     "text": [
      "Minimum element: 0\n"
     ]
    }
   ],
   "source": [
    "def find_minimum(nums):\n",
    "    left = 0\n",
    "    right = len(nums) - 1\n",
    "    \n",
    "    while left < right:\n",
    "        mid = left + (right - left) // 2\n",
    "        \n",
    "        if nums[mid] > nums[right]:\n",
    "            left = mid + 1\n",
    "        else:\n",
    "            right = mid\n",
    "    \n",
    "    return nums[left]\n",
    "\n",
    "# Example usage\n",
    "nums = [4, 5, 6, 7, 0, 1, 2]\n",
    "minimum = find_minimum(nums)\n",
    "print(\"Minimum element:\", minimum)\n"
   ]
  },
  {
   "cell_type": "markdown",
   "id": "f0aeda24",
   "metadata": {},
   "source": [
    "# Q31. Ans"
   ]
  },
  {
   "cell_type": "code",
   "execution_count": 29,
   "id": "581b0ae1",
   "metadata": {},
   "outputs": [
    {
     "name": "stdout",
     "output_type": "stream",
     "text": [
      "Sum of even numbers: 30\n"
     ]
    }
   ],
   "source": [
    "def sum_even_numbers(numbers):\n",
    "    even_sum = 0\n",
    "    \n",
    "    for num in numbers:\n",
    "        if num % 2 == 0:\n",
    "            even_sum += num\n",
    "    \n",
    "    return even_sum\n",
    "\n",
    "# Example usage\n",
    "numbers = [1, 2, 3, 4, 5, 6, 7, 8, 9, 10]\n",
    "even_sum = sum_even_numbers(numbers)\n",
    "print(\"Sum of even numbers:\", even_sum)\n"
   ]
  },
  {
   "cell_type": "markdown",
   "id": "6d10ad9b",
   "metadata": {},
   "source": [
    "# Q32. Ans"
   ]
  },
  {
   "cell_type": "code",
   "execution_count": 30,
   "id": "f6410a9a",
   "metadata": {},
   "outputs": [
    {
     "name": "stdout",
     "output_type": "stream",
     "text": [
      "Result: 8\n"
     ]
    }
   ],
   "source": [
    "def power(base, exponent):\n",
    "    if exponent == 0:\n",
    "        return 1\n",
    "    elif exponent < 0:\n",
    "        return 1 / power(base, -exponent)\n",
    "    else:\n",
    "        return base * power(base, exponent - 1)\n",
    "\n",
    "# Example usage\n",
    "base = 2\n",
    "exponent = 3\n",
    "result = power(base, exponent)\n",
    "print(\"Result:\", result)\n"
   ]
  },
  {
   "cell_type": "markdown",
   "id": "2717317d",
   "metadata": {},
   "source": [
    "# Q33. Ans"
   ]
  },
  {
   "cell_type": "code",
   "execution_count": 31,
   "id": "0ad34942",
   "metadata": {},
   "outputs": [
    {
     "name": "stdout",
     "output_type": "stream",
     "text": [
      "List after removing duplicates: [1, 3, 2, 4, 5]\n"
     ]
    }
   ],
   "source": [
    "def remove_duplicates_preserve_order(lst):\n",
    "    seen = set()\n",
    "    result = []\n",
    "    \n",
    "    for item in lst:\n",
    "        if item not in seen:\n",
    "            seen.add(item)\n",
    "            result.append(item)\n",
    "    \n",
    "    return result\n",
    "\n",
    "# Example usage\n",
    "lst = [1, 3, 2, 2, 4, 3, 5, 1]\n",
    "result = remove_duplicates_preserve_order(lst)\n",
    "print(\"List after removing duplicates:\", result)\n"
   ]
  },
  {
   "cell_type": "markdown",
   "id": "70ac4fe4",
   "metadata": {},
   "source": [
    "# Q34. Ans"
   ]
  },
  {
   "cell_type": "code",
   "execution_count": 32,
   "id": "bd3f2c4b",
   "metadata": {},
   "outputs": [
    {
     "name": "stdout",
     "output_type": "stream",
     "text": [
      "Longest common prefix: fl\n"
     ]
    }
   ],
   "source": [
    "def find_longest_common_prefix(strings):\n",
    "    if not strings:\n",
    "        return \"\"\n",
    "    \n",
    "    prefix = strings[0]\n",
    "    \n",
    "    for string in strings[1:]:\n",
    "        while not string.startswith(prefix):\n",
    "            prefix = prefix[:-1]\n",
    "            if not prefix:\n",
    "                return \"\"\n",
    "    \n",
    "    return prefix\n",
    "\n",
    "# Example usage\n",
    "strings = [\"flower\", \"flow\", \"flight\"]\n",
    "longest_common_prefix = find_longest_common_prefix(strings)\n",
    "print(\"Longest common prefix:\", longest_common_prefix)\n"
   ]
  },
  {
   "cell_type": "markdown",
   "id": "2aa9e0b4",
   "metadata": {},
   "source": [
    "# Q35. Ans"
   ]
  },
  {
   "cell_type": "code",
   "execution_count": 33,
   "id": "9b712bf2",
   "metadata": {},
   "outputs": [
    {
     "name": "stdout",
     "output_type": "stream",
     "text": [
      "True\n",
      "False\n"
     ]
    }
   ],
   "source": [
    "def is_perfect_square(number):\n",
    "    if number < 0:\n",
    "        return False\n",
    "    \n",
    "    if number == 0:\n",
    "        return True\n",
    "    \n",
    "    left = 1\n",
    "    right = number\n",
    "    \n",
    "    while left <= right:\n",
    "        mid = left + (right - left) // 2\n",
    "        square = mid * mid\n",
    "        \n",
    "        if square == number:\n",
    "            return True\n",
    "        elif square < number:\n",
    "            left = mid + 1\n",
    "        else:\n",
    "            right = mid - 1\n",
    "    \n",
    "    return False\n",
    "\n",
    "# Example usage\n",
    "number1 = 16\n",
    "print(is_perfect_square(number1))  # True\n",
    "\n",
    "number2 = 27\n",
    "print(is_perfect_square(number2))  # False\n"
   ]
  },
  {
   "cell_type": "markdown",
   "id": "95ebf7ff",
   "metadata": {},
   "source": [
    "# Q36. Ans"
   ]
  },
  {
   "cell_type": "code",
   "execution_count": 34,
   "id": "49ba7b5c",
   "metadata": {},
   "outputs": [
    {
     "name": "stdout",
     "output_type": "stream",
     "text": [
      "Product: 120\n"
     ]
    }
   ],
   "source": [
    "def calculate_product(numbers):\n",
    "    product = 1\n",
    "    \n",
    "    for num in numbers:\n",
    "        product *= num\n",
    "    \n",
    "    return product\n",
    "\n",
    "# Example usage\n",
    "numbers = [2, 3, 4, 5]\n",
    "product = calculate_product(numbers)\n",
    "print(\"Product:\", product)\n"
   ]
  },
  {
   "cell_type": "markdown",
   "id": "ac3709e9",
   "metadata": {},
   "source": [
    "# Q37. Ans"
   ]
  },
  {
   "cell_type": "code",
   "execution_count": 35,
   "id": "7af95793",
   "metadata": {},
   "outputs": [
    {
     "name": "stdout",
     "output_type": "stream",
     "text": [
      "Reversed sentence: today? you are how Hello,\n"
     ]
    }
   ],
   "source": [
    "def reverse_sentence(sentence):\n",
    "    words = sentence.split()\n",
    "    reversed_words = words[::-1]\n",
    "    reversed_sentence = ' '.join(reversed_words)\n",
    "    return reversed_sentence\n",
    "\n",
    "# Example usage\n",
    "sentence = \"Hello, how are you today?\"\n",
    "reversed_sentence = reverse_sentence(sentence)\n",
    "print(\"Reversed sentence:\", reversed_sentence)\n"
   ]
  },
  {
   "cell_type": "markdown",
   "id": "887b63e1",
   "metadata": {},
   "source": [
    "# Q38. Ans"
   ]
  },
  {
   "cell_type": "code",
   "execution_count": 36,
   "id": "8afb42a6",
   "metadata": {},
   "outputs": [
    {
     "name": "stdout",
     "output_type": "stream",
     "text": [
      "Missing number: 4\n"
     ]
    }
   ],
   "source": [
    "def find_missing_number(numbers):\n",
    "    n = len(numbers)\n",
    "    expected_sum = (n + 1) * (numbers[0] + numbers[-1]) // 2\n",
    "    actual_sum = sum(numbers)\n",
    "    missing_number = expected_sum - actual_sum\n",
    "    return missing_number\n",
    "\n",
    "# Example usage\n",
    "numbers = [1, 2, 3, 5, 6, 7, 8]\n",
    "missing_number = find_missing_number(numbers)\n",
    "print(\"Missing number:\", missing_number)\n"
   ]
  },
  {
   "cell_type": "markdown",
   "id": "1a2cd787",
   "metadata": {},
   "source": [
    "# Q39. Ans"
   ]
  },
  {
   "cell_type": "code",
   "execution_count": 37,
   "id": "113f8f30",
   "metadata": {},
   "outputs": [
    {
     "name": "stdout",
     "output_type": "stream",
     "text": [
      "Sum of digits: 15\n"
     ]
    }
   ],
   "source": [
    "def sum_of_digits(number):\n",
    "    digit_sum = 0\n",
    "    \n",
    "    while number > 0:\n",
    "        digit = number % 10\n",
    "        digit_sum += digit\n",
    "        number //= 10\n",
    "    \n",
    "    return digit_sum\n",
    "\n",
    "# Example usage\n",
    "number = 12345\n",
    "sum_digits = sum_of_digits(number)\n",
    "print(\"Sum of digits:\", sum_digits)\n"
   ]
  },
  {
   "cell_type": "markdown",
   "id": "ec193ac5",
   "metadata": {},
   "source": [
    "# Q40. Ans"
   ]
  },
  {
   "cell_type": "code",
   "execution_count": 38,
   "id": "eaef3c36",
   "metadata": {},
   "outputs": [
    {
     "name": "stdout",
     "output_type": "stream",
     "text": [
      "True\n",
      "False\n"
     ]
    }
   ],
   "source": [
    "def is_valid_palindrome(string):\n",
    "    left = 0\n",
    "    right = len(string) - 1\n",
    "    \n",
    "    while left < right:\n",
    "        if string[left] != string[right]:\n",
    "            return False\n",
    "        left += 1\n",
    "        right -= 1\n",
    "    \n",
    "    return True\n",
    "\n",
    "# Example usage\n",
    "string1 = \"racecar\"\n",
    "print(is_valid_palindrome(string1))  # True\n",
    "\n",
    "string2 = \"Hello\"\n",
    "print(is_valid_palindrome(string2))  # False\n"
   ]
  },
  {
   "cell_type": "markdown",
   "id": "d2c6ab26",
   "metadata": {},
   "source": [
    "# Q41. Ans"
   ]
  },
  {
   "cell_type": "code",
   "execution_count": 39,
   "id": "c2300e4b",
   "metadata": {},
   "outputs": [
    {
     "name": "stdout",
     "output_type": "stream",
     "text": [
      "Smallest missing positive integer: 2\n"
     ]
    }
   ],
   "source": [
    "def find_smallest_missing_positive(nums):\n",
    "    n = len(nums)\n",
    "    \n",
    "    # Step 1: Move all positive integers to their correct positions\n",
    "    for i in range(n):\n",
    "        while 1 <= nums[i] <= n and nums[i] != nums[nums[i] - 1]:\n",
    "            nums[nums[i] - 1], nums[i] = nums[i], nums[nums[i] - 1]\n",
    "    \n",
    "    # Step 2: Find the first missing positive integer\n",
    "    for i in range(n):\n",
    "        if nums[i] != i + 1:\n",
    "            return i + 1\n",
    "    \n",
    "    # If all positive integers from 1 to n are present, return n + 1\n",
    "    return n + 1\n",
    "\n",
    "# Example usage\n",
    "nums = [3, 4, -1, 1]\n",
    "smallest_missing = find_smallest_missing_positive(nums)\n",
    "print(\"Smallest missing positive integer:\", smallest_missing)\n"
   ]
  },
  {
   "cell_type": "markdown",
   "id": "d82e0466",
   "metadata": {},
   "source": [
    "# Q42. Ans"
   ]
  },
  {
   "cell_type": "code",
   "execution_count": 40,
   "id": "20b686cf",
   "metadata": {},
   "outputs": [
    {
     "name": "stdout",
     "output_type": "stream",
     "text": [
      "Longest palindrome substring: bab\n"
     ]
    }
   ],
   "source": [
    "def longest_palindrome_substring(string):\n",
    "    longest_palindrome = \"\"\n",
    "    \n",
    "    for i in range(len(string)):\n",
    "        # Check for odd-length palindromes with center at i\n",
    "        palindrome_odd = expand_around_center(string, i, i)\n",
    "        if len(palindrome_odd) > len(longest_palindrome):\n",
    "            longest_palindrome = palindrome_odd\n",
    "        \n",
    "        # Check for even-length palindromes with center at i and i+1\n",
    "        palindrome_even = expand_around_center(string, i, i + 1)\n",
    "        if len(palindrome_even) > len(longest_palindrome):\n",
    "            longest_palindrome = palindrome_even\n",
    "    \n",
    "    return longest_palindrome\n",
    "\n",
    "def expand_around_center(string, left, right):\n",
    "    while left >= 0 and right < len(string) and string[left] == string[right]:\n",
    "        left -= 1\n",
    "        right += 1\n",
    "    \n",
    "    return string[left + 1: right]\n",
    "\n",
    "# Example usage\n",
    "string = \"babad\"\n",
    "longest_palindrome = longest_palindrome_substring(string)\n",
    "print(\"Longest palindrome substring:\", longest_palindrome)\n"
   ]
  },
  {
   "cell_type": "markdown",
   "id": "23d67f4e",
   "metadata": {},
   "source": [
    "# Q43. Ans"
   ]
  },
  {
   "cell_type": "code",
   "execution_count": 41,
   "id": "99661579",
   "metadata": {},
   "outputs": [
    {
     "name": "stdout",
     "output_type": "stream",
     "text": [
      "Number of occurrences: 4\n"
     ]
    }
   ],
   "source": [
    "def count_occurrences(numbers, target):\n",
    "    count = 0\n",
    "    \n",
    "    for number in numbers:\n",
    "        if number == target:\n",
    "            count += 1\n",
    "    \n",
    "    return count\n",
    "\n",
    "# Example usage\n",
    "numbers = [1, 2, 3, 4, 2, 2, 5, 2]\n",
    "target = 2\n",
    "occurrences = count_occurrences(numbers, target)\n",
    "print(\"Number of occurrences:\", occurrences)\n"
   ]
  },
  {
   "cell_type": "markdown",
   "id": "f10fd224",
   "metadata": {},
   "source": [
    "# Q44. Ans"
   ]
  },
  {
   "cell_type": "code",
   "execution_count": 42,
   "id": "c9531afc",
   "metadata": {},
   "outputs": [
    {
     "name": "stdout",
     "output_type": "stream",
     "text": [
      "True\n",
      "True\n",
      "False\n"
     ]
    }
   ],
   "source": [
    "def is_perfect_number(number):\n",
    "    if number <= 0:\n",
    "        return False\n",
    "    \n",
    "    divisor_sum = 0\n",
    "    for i in range(1, number):\n",
    "        if number % i == 0:\n",
    "            divisor_sum += i\n",
    "    \n",
    "    return divisor_sum == number\n",
    "\n",
    "# Example usage\n",
    "number1 = 6\n",
    "print(is_perfect_number(number1))  # True\n",
    "\n",
    "number2 = 28\n",
    "print(is_perfect_number(number2))  # True\n",
    "\n",
    "number3 = 12\n",
    "print(is_perfect_number(number3))  # False\n"
   ]
  },
  {
   "cell_type": "markdown",
   "id": "1cbc487a",
   "metadata": {},
   "source": [
    "# Q45. Ans"
   ]
  },
  {
   "cell_type": "code",
   "execution_count": 43,
   "id": "a1333c69",
   "metadata": {},
   "outputs": [
    {
     "name": "stdout",
     "output_type": "stream",
     "text": [
      "String after removing duplicates: Helo, Wrd!\n"
     ]
    }
   ],
   "source": [
    "def remove_duplicates(string):\n",
    "    unique_chars = \"\"\n",
    "    for char in string:\n",
    "        if char not in unique_chars:\n",
    "            unique_chars += char\n",
    "    return unique_chars\n",
    "\n",
    "# Example usage\n",
    "string = \"Hello, World!\"\n",
    "result = remove_duplicates(string)\n",
    "print(\"String after removing duplicates:\", result)\n"
   ]
  },
  {
   "cell_type": "markdown",
   "id": "46ed64fb",
   "metadata": {},
   "source": [
    "# Q46. Ans"
   ]
  },
  {
   "cell_type": "code",
   "execution_count": 44,
   "id": "94a1807d",
   "metadata": {},
   "outputs": [
    {
     "name": "stdout",
     "output_type": "stream",
     "text": [
      "First missing positive integer: 2\n"
     ]
    }
   ],
   "source": [
    "def find_first_missing_positive(nums):\n",
    "    n = len(nums)\n",
    "    \n",
    "    # Step 1: Move all positive integers to their correct positions\n",
    "    for i in range(n):\n",
    "        while 1 <= nums[i] <= n and nums[i] != nums[nums[i] - 1]:\n",
    "            nums[nums[i] - 1], nums[i] = nums[i], nums[nums[i] - 1]\n",
    "    \n",
    "    # Step 2: Find the first missing positive integer\n",
    "    for i in range(n):\n",
    "        if nums[i] != i + 1:\n",
    "            return i + 1\n",
    "    \n",
    "    # If all positive integers from 1 to n are present, return n + 1\n",
    "    return n + 1\n",
    "\n",
    "# Example usage\n",
    "nums = [3, 4, -1, 1]\n",
    "first_missing = find_first_missing_positive(nums)\n",
    "print(\"First missing positive integer:\", first_missing)\n"
   ]
  },
  {
   "cell_type": "code",
   "execution_count": null,
   "id": "c6e3a862",
   "metadata": {},
   "outputs": [],
   "source": []
  }
 ],
 "metadata": {
  "kernelspec": {
   "display_name": "Python 3 (ipykernel)",
   "language": "python",
   "name": "python3"
  },
  "language_info": {
   "codemirror_mode": {
    "name": "ipython",
    "version": 3
   },
   "file_extension": ".py",
   "mimetype": "text/x-python",
   "name": "python",
   "nbconvert_exporter": "python",
   "pygments_lexer": "ipython3",
   "version": "3.9.12"
  }
 },
 "nbformat": 4,
 "nbformat_minor": 5
}
